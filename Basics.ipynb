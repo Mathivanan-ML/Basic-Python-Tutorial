{
 "cells": [
  {
   "cell_type": "markdown",
   "id": "4a66a0a0-677a-4df6-a693-6565b745c144",
   "metadata": {},
   "source": [
    "# Modify the list to have only positive numbers 2"
   ]
  },
  {
   "cell_type": "code",
   "execution_count": 40,
   "id": "f42f2f14-dc11-4e99-ad09-987b3e5dfd21",
   "metadata": {},
   "outputs": [
    {
     "name": "stdout",
     "output_type": "stream",
     "text": [
      "[1, 2, 3, 6, 7]\n"
     ]
    }
   ],
   "source": [
    "#meth 1\n",
    "data = [1,2,3,-4,-5,0,6,7,-8,-9]\n",
    "cnt = 0\n",
    "for ind ,val in enumerate(data):\n",
    "    if val<=0:\n",
    "        cnt += 1\n",
    "        for i in range(ind+1,len(data)):\n",
    "            if data[i]>0:\n",
    "                data[ind],data[i]=data[i],data[ind]\n",
    "                \n",
    "                break\n",
    "    # else:\n",
    "    #     print(val,\"j\")\n",
    "        del(data[len(data)-cnt-1:])\n",
    "     \n",
    "\n",
    "print(data)"
   ]
  },
  {
   "cell_type": "code",
   "execution_count": 55,
   "id": "217c8543-bf02-42f4-a251-725d678ba6cf",
   "metadata": {},
   "outputs": [
    {
     "name": "stdout",
     "output_type": "stream",
     "text": [
      "[1, 2, 3, 6, 7]\n"
     ]
    }
   ],
   "source": [
    "#meth 2\n",
    "data = [1,2,3,-4,-5,0,6,7,-8,-9]\n",
    "for i in range(len(data)-1,0,-1):\n",
    "    if data[i]<=0:\n",
    "        data.pop(i)\n",
    "    # print(data[i])\n",
    "print(data)"
   ]
  },
  {
   "cell_type": "markdown",
   "id": "0f552828-85f1-409c-86ad-b34ec4fefb84",
   "metadata": {},
   "source": [
    "# Print my first letter inside star box"
   ]
  },
  {
   "cell_type": "code",
   "execution_count": 60,
   "id": "32359085-e569-4a09-8baf-3bc40a9bd58d",
   "metadata": {},
   "outputs": [
    {
     "name": "stdin",
     "output_type": "stream",
     "text": [
      " 7\n"
     ]
    },
    {
     "name": "stdout",
     "output_type": "stream",
     "text": [
      "M * * * * * M \n",
      "M M * * * M M \n",
      "M * M * M * M \n",
      "M * * M * * M \n",
      "M * * * * * M \n",
      "M * * * * * M \n",
      "M * * * * * M \n"
     ]
    }
   ],
   "source": [
    "n = int(input())\n",
    "for i in range(n):\n",
    "    for j in range(n):\n",
    "        if j == 0 or j==n-1:\n",
    "            print(\"M\",end=\" \")\n",
    "        elif(i<n/2):\n",
    "            if i==j:\n",
    "                print(\"M\",end=\" \")\n",
    "            elif(i+j==n-1):\n",
    "                print(\"M\",end=\" \")\n",
    "            else:\n",
    "                print(\"*\",end=\" \")\n",
    "            \n",
    "        else:\n",
    "            print(\"*\",end=\" \")\n",
    "        \n",
    "    print()"
   ]
  },
  {
   "cell_type": "code",
   "execution_count": 56,
   "id": "79eb1cfa-4c2e-433d-93c8-d2ed9a084188",
   "metadata": {},
   "outputs": [
    {
     "name": "stdin",
     "output_type": "stream",
     "text": [
      " 6\n"
     ]
    },
    {
     "name": "stdout",
     "output_type": "stream",
     "text": [
      "M         M \n",
      "M M     M M \n",
      "M   M M   M \n",
      "M         M \n",
      "M         M \n",
      "M         M \n"
     ]
    }
   ],
   "source": [
    "n = int(input())\n",
    "\n",
    "\n",
    "for i in range(n):\n",
    "    for j in range(n):\n",
    "        if j == 0 or j==n-1:\n",
    "            print(\"M\",end=\" \")\n",
    "        elif(i<n/2):\n",
    "            if i==j:\n",
    "                print(\"M\",end=\" \")\n",
    "            elif(i+j==n-1):\n",
    "                print(\"M\",end=\" \")\n",
    "            else:\n",
    "                print(\" \",end=\" \")\n",
    "            \n",
    "        else:\n",
    "            print(\" \",end=\" \")\n",
    "        \n",
    "    print()"
   ]
  },
  {
   "cell_type": "markdown",
   "id": "3bc79fe0-174a-49f5-8722-fca625c16c31",
   "metadata": {},
   "source": [
    "# To print whether the month has friday on 13 or not"
   ]
  },
  {
   "cell_type": "code",
   "execution_count": 57,
   "id": "2014fce1-ad1b-4b14-8767-4dde66ceae8d",
   "metadata": {},
   "outputs": [
    {
     "name": "stdin",
     "output_type": "stream",
     "text": [
      "Enter within the range of 1-12:  14\n",
      "Enter a positive year:  2\n"
     ]
    },
    {
     "name": "stdout",
     "output_type": "stream",
     "text": [
      "09/13/02\n",
      "12/13/02\n"
     ]
    }
   ],
   "source": [
    "import datetime\n",
    "mon = int(input(\"Enter within the range of 1-12: \"))\n",
    "\n",
    "year = int(input(\"Enter a positive year: \"))\n",
    "if  year>=0:\n",
    "    for mon in range(1,13):\n",
    "        x = datetime.datetime(year,mon,13)\n",
    "        if x.strftime(\"%A\") == 'Friday':\n",
    "            print(x.strftime(\"%x\"))"
   ]
  },
  {
   "cell_type": "code",
   "execution_count": 3,
   "id": "7c8923fd-95fd-4338-904c-27e96dcf9165",
   "metadata": {},
   "outputs": [
    {
     "name": "stdin",
     "output_type": "stream",
     "text": [
      "Enter within the range of 1-12:  8\n",
      "Enter a positive year:  2024\n"
     ]
    }
   ],
   "source": [
    "# updated code for each year\n",
    "import datetime\n",
    "mon = int(input(\"Enter within the range of 1-12: \"))\n",
    "\n",
    "year = int(input(\"Enter a positive year: \"))\n",
    "if mon<=12 and mon>0 and year>=0:\n",
    "    # for mon in range(1,13):\n",
    "    x = datetime.datetime(year,mon,13)\n",
    "    if x.strftime(\"%A\") == 'Friday':\n",
    "        print(x.strftime(\"%x\"))\n",
    "       "
   ]
  },
  {
   "cell_type": "markdown",
   "id": "0255cbd9-c8fd-4f77-9fb1-55b173c8c53b",
   "metadata": {},
   "source": [
    "# To print A pattern"
   ]
  },
  {
   "cell_type": "code",
   "execution_count": 58,
   "id": "923c4965-b55b-44f3-97fd-0d8910b3fa06",
   "metadata": {},
   "outputs": [
    {
     "name": "stdin",
     "output_type": "stream",
     "text": [
      " 5\n"
     ]
    },
    {
     "name": "stdout",
     "output_type": "stream",
     "text": [
      "* * A * * * \n",
      "* A A A * * \n",
      "A * * * A * \n"
     ]
    }
   ],
   "source": [
    "n = int(input())\n",
    "\n",
    "for i in range(int(n/2)+1):\n",
    "    for j in range(n+1):\n",
    "        if j+i==n//2 or j-i==n//2:\n",
    "            print(\"A\",end=\" \")\n",
    "        elif i==int(n/4):\n",
    "            if  (j+i>n//2 and j-i<n//2):\n",
    "                \n",
    "                print(\"A\",end=\" \")\n",
    "            else:\n",
    "                print(\"*\",end=\" \")\n",
    "        else:\n",
    "            print(\"*\",end=\" \")\n",
    "    print()"
   ]
  },
  {
   "cell_type": "markdown",
   "id": "ba28f618-15ce-414a-b564-ace7bfdf7767",
   "metadata": {},
   "source": [
    "# Find the duplicated words in the sentance"
   ]
  },
  {
   "cell_type": "code",
   "execution_count": 59,
   "id": "7c32a7a3-5922-43fe-bc7c-0d6d9f40180c",
   "metadata": {},
   "outputs": [
    {
     "name": "stdin",
     "output_type": "stream",
     "text": [
      "enter a sentence:  hi\n"
     ]
    }
   ],
   "source": [
    "string1=input(\"enter a sentence: \")\n",
    "string1=string1.lower()\n",
    "l=string1.split()\n",
    "for i in l:\n",
    "    for j in range(len(i)):\n",
    "        if i[j] in i[j+1:]:\n",
    "            print(i)\n",
    "            break\n",
    "        else:\n",
    "            continue"
   ]
  },
  {
   "cell_type": "markdown",
   "id": "9fd696f6-6860-41f7-832a-dada82ff822d",
   "metadata": {},
   "source": [
    "# To get all fruits and vegies differntiated in the res dict"
   ]
  },
  {
   "cell_type": "code",
   "execution_count": 51,
   "id": "61962a26-9772-4ebc-8854-a9ad1a9ee799",
   "metadata": {},
   "outputs": [
    {
     "name": "stdout",
     "output_type": "stream",
     "text": [
      "{'fruits': ['apple', 'orange', 'pineapple'], 'veg': ['potato', 'tomato', 'capsicum']}\n"
     ]
    }
   ],
   "source": [
    "d1 = { 'f1':'apple','f2':'orange','v1':'potato','v2':'tomato'}\n",
    "d2 = {'f1':'apple','f2':'pineapple','v1':'potato','v2':'capsicum'}\n",
    "res = {}\n",
    "l1 = []\n",
    "l2 = []\n",
    "for i in d1.keys():\n",
    "    if i[0]=='f':\n",
    "        l1.append(d1[i])\n",
    "         \n",
    "    else:\n",
    "        l2.append(d1[i])\n",
    "for i in d2.keys():\n",
    "    if i[0]=='f' and d2[i] not in l1 :\n",
    "        l1.append(d2[i])\n",
    "        \n",
    "    elif i[0]=='v' and d2[i] not in l2:\n",
    "        l2.append(d2[i])\n",
    "res['fruits']=l1\n",
    "res['veg']=l2\n",
    "print(res)\n",
    "    "
   ]
  },
  {
   "cell_type": "markdown",
   "id": "af8d3558-9c79-4ae2-8855-2fd08d70014e",
   "metadata": {},
   "source": [
    "# Assign random values to the dict values"
   ]
  },
  {
   "cell_type": "code",
   "execution_count": 40,
   "id": "951ef015-02c3-4f8b-823d-9d2745a750ca",
   "metadata": {},
   "outputs": [
    {
     "name": "stdout",
     "output_type": "stream",
     "text": [
      "{'chennai': 2, 'Bglr': 1, 'delhi': 2, 'Mumbai': 3}\n"
     ]
    }
   ],
   "source": [
    "import random\n",
    "d = {'chennai':1,'Bglr':2,\"delhi\":3,\"Mumbai\":4}\n",
    "n = len(d)\n",
    "for i in d:\n",
    "    d[i] = random.randrange(1,n)\n",
    "print(d)"
   ]
  },
  {
   "cell_type": "markdown",
   "id": "d78cc782-8053-44c3-9893-e5bb97ca33a3",
   "metadata": {},
   "source": [
    "# Nested Dictionaries"
   ]
  },
  {
   "cell_type": "code",
   "execution_count": 14,
   "id": "7825c1e4-2371-4773-b0e9-91db68963b8a",
   "metadata": {},
   "outputs": [
    {
     "name": "stdin",
     "output_type": "stream",
     "text": [
      "Enter Truck name  ashok\n",
      "Enter the year of the model 2016\n",
      "Enter Colors red green\n"
     ]
    },
    {
     "name": "stdout",
     "output_type": "stream",
     "text": [
      "{'car': {'name': 'swift', 'year': 2020, 'color': ['white', 'black']}, 'bus': {'name': 'swift', 'year': 2010, 'color': ['white', 'black']}, 'truck': {'name': 'ashok', 'year': 2016, 'color': ['red', 'green']}}\n"
     ]
    }
   ],
   "source": [
    "data = {\n",
    "    'car' :\n",
    "    {\n",
    "    'name': 'swift',\n",
    "    'year' : 2020,\n",
    "    'color' : ['white','black']},\n",
    "    'bus':{\n",
    "         'name': 'swift',\n",
    "        'year' : 2010,\n",
    "        'color' : ['white','black']}\n",
    "}\n",
    "tname = input(\"Enter Truck name \")\n",
    "year = int(input(\"Enter the year of the model\"))\n",
    "color = list(map(str,input(\"Enter Colors\").split()))\n",
    "\n",
    "data['truck'] = dict(name=tname,year=year,color=color)\n",
    "print(data)\n",
    "    "
   ]
  },
  {
   "cell_type": "code",
   "execution_count": 27,
   "id": "b3682db1-2d10-41bb-b512-0a53737fa70f",
   "metadata": {},
   "outputs": [
    {
     "name": "stdout",
     "output_type": "stream",
     "text": [
      "{'mathi': 21, 'chandu': 22, 'paddy': 21}\n",
      "{'mathi': 21, 'chandu': 22, 'paddy': 21}\n",
      "<zip object at 0x000001D9172EB700>\n"
     ]
    }
   ],
   "source": [
    "# We can use zip to merge the contents together using zip but it will show only the addresses so we need to typecast it to iterable before printing or accessing\n",
    "name = ['mathi','chandu','paddy']\n",
    "age = [21,22,21]\n",
    "res = {}\n",
    "for i in range(len(name)):\n",
    "    res[name[i]] = age[i]\n",
    "print(res)\n",
    "ans = zip(name,age)\n",
    "print(dict(ans))\n"
   ]
  },
  {
   "cell_type": "code",
   "execution_count": 41,
   "id": "7caa1f18-458d-4cde-a79a-55a4dd6ccb35",
   "metadata": {},
   "outputs": [
    {
     "name": "stdout",
     "output_type": "stream",
     "text": [
      "1\n",
      "{'a': {'x': 5}, 'b': {'y': 5}, 'c': {'z': 5}}\n"
     ]
    }
   ],
   "source": [
    "d1 = {\n",
    "    'a' : {'w':'1','x':'2'},\n",
    "    'b' : {'y':'4'},\n",
    "    'c' : {'z':'5'}\n",
    "}\n",
    "d2 =  {\n",
    "    'a' : {'w':'4','x':'3'},\n",
    "    'b' : {'y':'1'},\n",
    "    'c' : {'z':'0'}\n",
    "}\n",
    "res = {}\n",
    "for key,value in d1.items():\n",
    "    for val in value:\n",
    "        res[key] = { val : int(d1[key][val])+int(d2[key][val])}\n",
    "\n",
    "print(res)"
   ]
  },
  {
   "cell_type": "code",
   "execution_count": 61,
   "id": "703d9465-9c76-438a-b98b-dcd87a7af634",
   "metadata": {},
   "outputs": [
    {
     "name": "stdout",
     "output_type": "stream",
     "text": [
      "27\n"
     ]
    }
   ],
   "source": [
    "# 4. Write a function that sums all integer values in a nested dictionary, regardless of the depth.\n",
    "\n",
    "d = {\n",
    "    \"key1\": 5,\n",
    "    \"key2\": {\"key3\": 3, \"key4\": {\"key5\": 7, \"key6\": 10}},\n",
    "    \"key7\": 2,\n",
    "}\n",
    "\n",
    "def sum_num(d):\n",
    "    total = 0\n",
    "    \n",
    "    for key, value in d.items():\n",
    "        if isinstance(value,dict):\n",
    "            total += sum_num(value)\n",
    "        else:\n",
    "            total += value\n",
    "    return total\n",
    "print(sum_num(d))"
   ]
  },
  {
   "cell_type": "code",
   "execution_count": 73,
   "id": "6c688f16-85d6-4900-9151-151514808814",
   "metadata": {},
   "outputs": [
    {
     "name": "stdout",
     "output_type": "stream",
     "text": [
      "B\n",
      "H\n",
      "{'A': {'C': 10}, 'D': {'E': 6, 'F': {'G': 12}}, 'I': 7}\n"
     ]
    }
   ],
   "source": [
    "# 5. Write a function that filters a nested dictionary, keeping only the items that meet a certain condition. For example, keep only the entries where the value is greater than 5.\n",
    "\n",
    "d = {\n",
    "\n",
    "'A': {'B': 4, 'C': 10},\n",
    " 'D': {'E': 6, 'F': {'G': 12, 'H': 3}}, \n",
    "'I':7\n",
    "}\n",
    "\n",
    "# Output Result:\n",
    "\n",
    "# { 'A': {'C': 10},\n",
    "#  D: ('E': 6, 'F': {'G': 12}}, \n",
    "# 'I': 7\n",
    "# }\n",
    "def iterate(d):\n",
    "    backup = []\n",
    "    for k,v in d.items():\n",
    "        if isinstance(v,int):\n",
    "            #integers\n",
    "            if v<=5:\n",
    "                print(k)\n",
    "                backup.append(k)\n",
    "        else:\n",
    "            iterate(v)\n",
    "    for i in backup:\n",
    "        del d[i]\n",
    "    return \n",
    "iterate(d)\n",
    "print(d)\n",
    "                "
   ]
  },
  {
   "cell_type": "code",
   "execution_count": null,
   "id": "198549c1-e04a-4c8a-9b54-a3393e3bb22c",
   "metadata": {},
   "outputs": [],
   "source": []
  },
  {
   "cell_type": "code",
   "execution_count": 76,
   "id": "8835d816-d6b9-43ed-9a05-1db360fdd869",
   "metadata": {},
   "outputs": [
    {
     "data": {
      "text/plain": [
       "' Employee name is Mohan and he is a Python Software Developer  '"
      ]
     },
     "execution_count": 76,
     "metadata": {},
     "output_type": "execute_result"
    }
   ],
   "source": [
    "class Employee:\n",
    "    def __init__(self,name,age,pos):\n",
    "        self.name = name\n",
    "        self.age = age\n",
    "        self.pos = pos\n",
    "        self.sal = 45000\n",
    "    def display_employee_info(self):\n",
    "        # print(\"The details of the employee is: \")\n",
    "        # print(self.name)\n",
    "        # print(self.age)\n",
    "        # print(self.pos)\n",
    "        return f' Employee name is {self.name} and he is a {self.pos}  ' \n",
    "    def give_raise(self,amount):\n",
    "        self.sal +=  amount\n",
    "    def promote(self,pos):\n",
    "        self.pos = pos\n",
    "\n",
    "e = Employee(\"Mohan\",22,\"C++ Software Developer\")\n",
    "e.give_raise(15000)\n",
    "e.promote(\"Python Software Developer\")\n",
    "e.display_employee_info()\n",
    "    \n",
    "    "
   ]
  },
  {
   "cell_type": "markdown",
   "id": "351c3a03-69f8-4d70-8a5b-d656c3962317",
   "metadata": {},
   "source": [
    "# Inheritance"
   ]
  },
  {
   "cell_type": "code",
   "execution_count": 25,
   "id": "29a3602e-c728-4278-af96-ad34346c68b0",
   "metadata": {},
   "outputs": [
    {
     "name": "stdout",
     "output_type": "stream",
     "text": [
      "par 2 is:  Mom Mom\n"
     ]
    }
   ],
   "source": [
    "class Par1:\n",
    "    def __init__(self):\n",
    "        self.name1 = \"Dad\"\n",
    "    def show(self):\n",
    "        print(\"par 1 is: \", self.name1)\n",
    "class Par2:\n",
    "    def __init__(self):\n",
    "        self.name1 = \"Mom\"\n",
    "    def show(self,other):\n",
    "        print(\"par 2 is: \", self.name1,other)\n",
    "class Ch1:\n",
    "    def __init__(self):\n",
    "        self.name1=\"me\"\n",
    "        # Par2.__init__(self)\n",
    "        Par2.show(self,self.name1)\n",
    "    def show(self):\n",
    "        print(\"ch is: \", self.name1,)  \n",
    "o = Par2()\n",
    "obj = Ch1()\n",
    "# obj.show()"
   ]
  },
  {
   "cell_type": "code",
   "execution_count": null,
   "id": "b2963614-8a67-44d0-ab3d-47a3f8af2137",
   "metadata": {},
   "outputs": [],
   "source": []
  }
 ],
 "metadata": {
  "kernelspec": {
   "display_name": "Python 3 (ipykernel)",
   "language": "python",
   "name": "python3"
  },
  "language_info": {
   "codemirror_mode": {
    "name": "ipython",
    "version": 3
   },
   "file_extension": ".py",
   "mimetype": "text/x-python",
   "name": "python",
   "nbconvert_exporter": "python",
   "pygments_lexer": "ipython3",
   "version": "3.12.5"
  }
 },
 "nbformat": 4,
 "nbformat_minor": 5
}
