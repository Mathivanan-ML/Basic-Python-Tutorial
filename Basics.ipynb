{
 "cells": [
  {
   "cell_type": "markdown",
   "id": "4a66a0a0-677a-4df6-a693-6565b745c144",
   "metadata": {},
   "source": [
    "# Modify the list to have only positive numbers 2"
   ]
  },
  {
   "cell_type": "code",
   "execution_count": 40,
   "id": "f42f2f14-dc11-4e99-ad09-987b3e5dfd21",
   "metadata": {},
   "outputs": [
    {
     "name": "stdout",
     "output_type": "stream",
     "text": [
      "[1, 2, 3, 6, 7]\n"
     ]
    }
   ],
   "source": [
    "#meth 1\n",
    "data = [1,2,3,-4,-5,0,6,7,-8,-9]\n",
    "cnt = 0\n",
    "for ind ,val in enumerate(data):\n",
    "    if val<=0:\n",
    "        cnt += 1\n",
    "        for i in range(ind+1,len(data)):\n",
    "            if data[i]>0:\n",
    "                data[ind],data[i]=data[i],data[ind]\n",
    "                \n",
    "                break\n",
    "    # else:\n",
    "    #     print(val,\"j\")\n",
    "        del(data[len(data)-cnt-1:])\n",
    "     \n",
    "\n",
    "print(data)"
   ]
  },
  {
   "cell_type": "code",
   "execution_count": 55,
   "id": "217c8543-bf02-42f4-a251-725d678ba6cf",
   "metadata": {},
   "outputs": [
    {
     "name": "stdout",
     "output_type": "stream",
     "text": [
      "[1, 2, 3, 6, 7]\n"
     ]
    }
   ],
   "source": [
    "#meth 2\n",
    "data = [1,2,3,-4,-5,0,6,7,-8,-9]\n",
    "for i in range(len(data)-1,0,-1):\n",
    "    if data[i]<=0:\n",
    "        data.pop(i)\n",
    "    # print(data[i])\n",
    "print(data)"
   ]
  },
  {
   "cell_type": "markdown",
   "id": "0f552828-85f1-409c-86ad-b34ec4fefb84",
   "metadata": {},
   "source": [
    "# Print my first letter inside star box"
   ]
  },
  {
   "cell_type": "code",
   "execution_count": 60,
   "id": "32359085-e569-4a09-8baf-3bc40a9bd58d",
   "metadata": {},
   "outputs": [
    {
     "name": "stdin",
     "output_type": "stream",
     "text": [
      " 7\n"
     ]
    },
    {
     "name": "stdout",
     "output_type": "stream",
     "text": [
      "M * * * * * M \n",
      "M M * * * M M \n",
      "M * M * M * M \n",
      "M * * M * * M \n",
      "M * * * * * M \n",
      "M * * * * * M \n",
      "M * * * * * M \n"
     ]
    }
   ],
   "source": [
    "n = int(input())\n",
    "for i in range(n):\n",
    "    for j in range(n):\n",
    "        if j == 0 or j==n-1:\n",
    "            print(\"M\",end=\" \")\n",
    "        elif(i<n/2):\n",
    "            if i==j:\n",
    "                print(\"M\",end=\" \")\n",
    "            elif(i+j==n-1):\n",
    "                print(\"M\",end=\" \")\n",
    "            else:\n",
    "                print(\"*\",end=\" \")\n",
    "            \n",
    "        else:\n",
    "            print(\"*\",end=\" \")\n",
    "        \n",
    "    print()"
   ]
  },
  {
   "cell_type": "code",
   "execution_count": 56,
   "id": "79eb1cfa-4c2e-433d-93c8-d2ed9a084188",
   "metadata": {},
   "outputs": [
    {
     "name": "stdin",
     "output_type": "stream",
     "text": [
      " 6\n"
     ]
    },
    {
     "name": "stdout",
     "output_type": "stream",
     "text": [
      "M         M \n",
      "M M     M M \n",
      "M   M M   M \n",
      "M         M \n",
      "M         M \n",
      "M         M \n"
     ]
    }
   ],
   "source": [
    "n = int(input())\n",
    "\n",
    "\n",
    "for i in range(n):\n",
    "    for j in range(n):\n",
    "        if j == 0 or j==n-1:\n",
    "            print(\"M\",end=\" \")\n",
    "        elif(i<n/2):\n",
    "            if i==j:\n",
    "                print(\"M\",end=\" \")\n",
    "            elif(i+j==n-1):\n",
    "                print(\"M\",end=\" \")\n",
    "            else:\n",
    "                print(\" \",end=\" \")\n",
    "            \n",
    "        else:\n",
    "            print(\" \",end=\" \")\n",
    "        \n",
    "    print()"
   ]
  },
  {
   "cell_type": "markdown",
   "id": "3bc79fe0-174a-49f5-8722-fca625c16c31",
   "metadata": {},
   "source": [
    "# To print whether the month has friday on 13 or not"
   ]
  },
  {
   "cell_type": "code",
   "execution_count": 57,
   "id": "2014fce1-ad1b-4b14-8767-4dde66ceae8d",
   "metadata": {},
   "outputs": [
    {
     "name": "stdin",
     "output_type": "stream",
     "text": [
      "Enter within the range of 1-12:  14\n",
      "Enter a positive year:  2\n"
     ]
    },
    {
     "name": "stdout",
     "output_type": "stream",
     "text": [
      "09/13/02\n",
      "12/13/02\n"
     ]
    }
   ],
   "source": [
    "import datetime\n",
    "mon = int(input(\"Enter within the range of 1-12: \"))\n",
    "\n",
    "year = int(input(\"Enter a positive year: \"))\n",
    "if  year>=0:\n",
    "    for mon in range(1,13):\n",
    "        x = datetime.datetime(year,mon,13)\n",
    "        if x.strftime(\"%A\") == 'Friday':\n",
    "            print(x.strftime(\"%x\"))"
   ]
  },
  {
   "cell_type": "code",
   "execution_count": 3,
   "id": "7c8923fd-95fd-4338-904c-27e96dcf9165",
   "metadata": {},
   "outputs": [
    {
     "name": "stdin",
     "output_type": "stream",
     "text": [
      "Enter within the range of 1-12:  8\n",
      "Enter a positive year:  2024\n"
     ]
    }
   ],
   "source": [
    "# updated code for each year\n",
    "import datetime\n",
    "mon = int(input(\"Enter within the range of 1-12: \"))\n",
    "\n",
    "year = int(input(\"Enter a positive year: \"))\n",
    "if mon<=12 and mon>0 and year>=0:\n",
    "    # for mon in range(1,13):\n",
    "    x = datetime.datetime(year,mon,13)\n",
    "    if x.strftime(\"%A\") == 'Friday':\n",
    "        print(x.strftime(\"%x\"))\n",
    "       "
   ]
  },
  {
   "cell_type": "markdown",
   "id": "0255cbd9-c8fd-4f77-9fb1-55b173c8c53b",
   "metadata": {},
   "source": [
    "# To print A pattern"
   ]
  },
  {
   "cell_type": "code",
   "execution_count": 58,
   "id": "923c4965-b55b-44f3-97fd-0d8910b3fa06",
   "metadata": {},
   "outputs": [
    {
     "name": "stdin",
     "output_type": "stream",
     "text": [
      " 5\n"
     ]
    },
    {
     "name": "stdout",
     "output_type": "stream",
     "text": [
      "* * A * * * \n",
      "* A A A * * \n",
      "A * * * A * \n"
     ]
    }
   ],
   "source": [
    "n = int(input())\n",
    "\n",
    "for i in range(int(n/2)+1):\n",
    "    for j in range(n+1):\n",
    "        if j+i==n//2 or j-i==n//2:\n",
    "            print(\"A\",end=\" \")\n",
    "        elif i==int(n/4):\n",
    "            if  (j+i>n//2 and j-i<n//2):\n",
    "                \n",
    "                print(\"A\",end=\" \")\n",
    "            else:\n",
    "                print(\"*\",end=\" \")\n",
    "        else:\n",
    "            print(\"*\",end=\" \")\n",
    "    print()"
   ]
  },
  {
   "cell_type": "markdown",
   "id": "ba28f618-15ce-414a-b564-ace7bfdf7767",
   "metadata": {},
   "source": [
    "# Find the duplicated words in the sentance"
   ]
  },
  {
   "cell_type": "code",
   "execution_count": 59,
   "id": "7c32a7a3-5922-43fe-bc7c-0d6d9f40180c",
   "metadata": {},
   "outputs": [
    {
     "name": "stdin",
     "output_type": "stream",
     "text": [
      "enter a sentence:  hi\n"
     ]
    }
   ],
   "source": [
    "string1=input(\"enter a sentence: \")\n",
    "string1=string1.lower()\n",
    "l=string1.split()\n",
    "for i in l:\n",
    "    for j in range(len(i)):\n",
    "        if i[j] in i[j+1:]:\n",
    "            print(i)\n",
    "            break\n",
    "        else:\n",
    "            continue"
   ]
  },
  {
   "cell_type": "markdown",
   "id": "9fd696f6-6860-41f7-832a-dada82ff822d",
   "metadata": {},
   "source": [
    "# To get all fruits and vegies differntiated in the res dict"
   ]
  },
  {
   "cell_type": "code",
   "execution_count": 51,
   "id": "61962a26-9772-4ebc-8854-a9ad1a9ee799",
   "metadata": {},
   "outputs": [
    {
     "name": "stdout",
     "output_type": "stream",
     "text": [
      "{'fruits': ['apple', 'orange', 'pineapple'], 'veg': ['potato', 'tomato', 'capsicum']}\n"
     ]
    }
   ],
   "source": [
    "d1 = { 'f1':'apple','f2':'orange','v1':'potato','v2':'tomato'}\n",
    "d2 = {'f1':'apple','f2':'pineapple','v1':'potato','v2':'capsicum'}\n",
    "res = {}\n",
    "l1 = []\n",
    "l2 = []\n",
    "for i in d1.keys():\n",
    "    if i[0]=='f':\n",
    "        l1.append(d1[i])\n",
    "         \n",
    "    else:\n",
    "        l2.append(d1[i])\n",
    "for i in d2.keys():\n",
    "    if i[0]=='f' and d2[i] not in l1 :\n",
    "        l1.append(d2[i])\n",
    "        \n",
    "    elif i[0]=='v' and d2[i] not in l2:\n",
    "        l2.append(d2[i])\n",
    "res['fruits']=l1\n",
    "res['veg']=l2\n",
    "print(res)\n",
    "    "
   ]
  },
  {
   "cell_type": "markdown",
   "id": "af8d3558-9c79-4ae2-8855-2fd08d70014e",
   "metadata": {},
   "source": [
    "# Assign random values to the dict values"
   ]
  },
  {
   "cell_type": "code",
   "execution_count": 40,
   "id": "951ef015-02c3-4f8b-823d-9d2745a750ca",
   "metadata": {},
   "outputs": [
    {
     "name": "stdout",
     "output_type": "stream",
     "text": [
      "{'chennai': 2, 'Bglr': 1, 'delhi': 2, 'Mumbai': 3}\n"
     ]
    }
   ],
   "source": [
    "import random\n",
    "d = {'chennai':1,'Bglr':2,\"delhi\":3,\"Mumbai\":4}\n",
    "n = len(d)\n",
    "for i in d:\n",
    "    d[i] = random.randrange(1,n)\n",
    "print(d)"
   ]
  },
  {
   "cell_type": "markdown",
   "id": "d78cc782-8053-44c3-9893-e5bb97ca33a3",
   "metadata": {},
   "source": [
    "# Nested Dictionaries"
   ]
  },
  {
   "cell_type": "code",
   "execution_count": 14,
   "id": "7825c1e4-2371-4773-b0e9-91db68963b8a",
   "metadata": {},
   "outputs": [
    {
     "name": "stdin",
     "output_type": "stream",
     "text": [
      "Enter Truck name  ashok\n",
      "Enter the year of the model 2016\n",
      "Enter Colors red green\n"
     ]
    },
    {
     "name": "stdout",
     "output_type": "stream",
     "text": [
      "{'car': {'name': 'swift', 'year': 2020, 'color': ['white', 'black']}, 'bus': {'name': 'swift', 'year': 2010, 'color': ['white', 'black']}, 'truck': {'name': 'ashok', 'year': 2016, 'color': ['red', 'green']}}\n"
     ]
    }
   ],
   "source": [
    "data = {\n",
    "    'car' :\n",
    "    {\n",
    "    'name': 'swift',\n",
    "    'year' : 2020,\n",
    "    'color' : ['white','black']},\n",
    "    'bus':{\n",
    "         'name': 'swift',\n",
    "        'year' : 2010,\n",
    "        'color' : ['white','black']}\n",
    "}\n",
    "tname = input(\"Enter Truck name \")\n",
    "year = int(input(\"Enter the year of the model\"))\n",
    "color = list(map(str,input(\"Enter Colors\").split()))\n",
    "\n",
    "data['truck'] = dict(name=tname,year=year,color=color)\n",
    "print(data)\n",
    "    "
   ]
  },
  {
   "cell_type": "code",
   "execution_count": 27,
   "id": "b3682db1-2d10-41bb-b512-0a53737fa70f",
   "metadata": {},
   "outputs": [
    {
     "name": "stdout",
     "output_type": "stream",
     "text": [
      "{'mathi': 21, 'chandu': 22, 'paddy': 21}\n",
      "{'mathi': 21, 'chandu': 22, 'paddy': 21}\n",
      "<zip object at 0x000001D9172EB700>\n"
     ]
    }
   ],
   "source": [
    "# We can use zip to merge the contents together using zip but it will show only the addresses so we need to typecast it to iterable before printing or accessing\n",
    "name = ['mathi','chandu','paddy']\n",
    "age = [21,22,21]\n",
    "res = {}\n",
    "for i in range(len(name)):\n",
    "    res[name[i]] = age[i]\n",
    "print(res)\n",
    "ans = zip(name,age)\n",
    "print(dict(ans))\n"
   ]
  },
  {
   "cell_type": "code",
   "execution_count": 41,
   "id": "7caa1f18-458d-4cde-a79a-55a4dd6ccb35",
   "metadata": {},
   "outputs": [
    {
     "name": "stdout",
     "output_type": "stream",
     "text": [
      "1\n",
      "{'a': {'x': 5}, 'b': {'y': 5}, 'c': {'z': 5}}\n"
     ]
    }
   ],
   "source": [
    "d1 = {\n",
    "    'a' : {'w':'1','x':'2'},\n",
    "    'b' : {'y':'4'},\n",
    "    'c' : {'z':'5'}\n",
    "}\n",
    "d2 =  {\n",
    "    'a' : {'w':'4','x':'3'},\n",
    "    'b' : {'y':'1'},\n",
    "    'c' : {'z':'0'}\n",
    "}\n",
    "res = {}\n",
    "for key,value in d1.items():\n",
    "    for val in value:\n",
    "        res[key] = { val : int(d1[key][val])+int(d2[key][val])}\n",
    "\n",
    "print(res)"
   ]
  },
  {
   "cell_type": "code",
   "execution_count": 61,
   "id": "703d9465-9c76-438a-b98b-dcd87a7af634",
   "metadata": {},
   "outputs": [
    {
     "name": "stdout",
     "output_type": "stream",
     "text": [
      "27\n"
     ]
    }
   ],
   "source": [
    "# 4. Write a function that sums all integer values in a nested dictionary, regardless of the depth.\n",
    "\n",
    "d = {\n",
    "    \"key1\": 5,\n",
    "    \"key2\": {\"key3\": 3, \"key4\": {\"key5\": 7, \"key6\": 10}},\n",
    "    \"key7\": 2,\n",
    "}\n",
    "\n",
    "def sum_num(d):\n",
    "    total = 0\n",
    "    \n",
    "    for key, value in d.items():\n",
    "        if isinstance(value,dict):\n",
    "            total += sum_num(value)\n",
    "        else:\n",
    "            total += value\n",
    "    return total\n",
    "print(sum_num(d))"
   ]
  },
  {
   "cell_type": "code",
   "execution_count": 73,
   "id": "6c688f16-85d6-4900-9151-151514808814",
   "metadata": {},
   "outputs": [
    {
     "name": "stdout",
     "output_type": "stream",
     "text": [
      "B\n",
      "H\n",
      "{'A': {'C': 10}, 'D': {'E': 6, 'F': {'G': 12}}, 'I': 7}\n"
     ]
    }
   ],
   "source": [
    "# 5. Write a function that filters a nested dictionary, keeping only the items that meet a certain condition. For example, keep only the entries where the value is greater than 5.\n",
    "\n",
    "d = {\n",
    "\n",
    "'A': {'B': 4, 'C': 10},\n",
    " 'D': {'E': 6, 'F': {'G': 12, 'H': 3}}, \n",
    "'I':7\n",
    "}\n",
    "\n",
    "# Output Result:\n",
    "\n",
    "# { 'A': {'C': 10},\n",
    "#  D: ('E': 6, 'F': {'G': 12}}, \n",
    "# 'I': 7\n",
    "# }\n",
    "def iterate(d):\n",
    "    backup = []\n",
    "    for k,v in d.items():\n",
    "        if isinstance(v,int):\n",
    "            #integers\n",
    "            if v<=5:\n",
    "                print(k)\n",
    "                backup.append(k)\n",
    "        else:\n",
    "            iterate(v)\n",
    "    for i in backup:\n",
    "        del d[i]\n",
    "    return \n",
    "iterate(d)\n",
    "print(d)\n",
    "                "
   ]
  },
  {
   "cell_type": "code",
   "execution_count": null,
   "id": "198549c1-e04a-4c8a-9b54-a3393e3bb22c",
   "metadata": {},
   "outputs": [],
   "source": []
  },
  {
   "cell_type": "code",
   "execution_count": 76,
   "id": "8835d816-d6b9-43ed-9a05-1db360fdd869",
   "metadata": {},
   "outputs": [
    {
     "data": {
      "text/plain": [
       "' Employee name is Mohan and he is a Python Software Developer  '"
      ]
     },
     "execution_count": 76,
     "metadata": {},
     "output_type": "execute_result"
    }
   ],
   "source": [
    "class Employee:\n",
    "    def __init__(self,name,age,pos):\n",
    "        self.name = name\n",
    "        self.age = age\n",
    "        self.pos = pos\n",
    "        self.sal = 45000\n",
    "    def display_employee_info(self):\n",
    "        # print(\"The details of the employee is: \")\n",
    "        # print(self.name)\n",
    "        # print(self.age)\n",
    "        # print(self.pos)\n",
    "        return f' Employee name is {self.name} and he is a {self.pos}  ' \n",
    "    def give_raise(self,amount):\n",
    "        self.sal +=  amount\n",
    "    def promote(self,pos):\n",
    "        self.pos = pos\n",
    "\n",
    "e = Employee(\"Mohan\",22,\"C++ Software Developer\")\n",
    "e.give_raise(15000)\n",
    "e.promote(\"Python Software Developer\")\n",
    "e.display_employee_info()\n",
    "    \n",
    "    "
   ]
  },
  {
   "cell_type": "markdown",
   "id": "351c3a03-69f8-4d70-8a5b-d656c3962317",
   "metadata": {},
   "source": [
    "# Inheritance"
   ]
  },
  {
   "cell_type": "code",
   "execution_count": 3,
   "id": "29a3602e-c728-4278-af96-ad34346c68b0",
   "metadata": {},
   "outputs": [
    {
     "name": "stdout",
     "output_type": "stream",
     "text": [
      "ch is:  me\n"
     ]
    }
   ],
   "source": [
    "class Par1:\n",
    "    def __init__(self):\n",
    "        self.name1 = \"Dad\"\n",
    "    def show(self):\n",
    "        print(\"par 1 is: \", self.name1)\n",
    "class Par2:\n",
    "    def __init__(self):\n",
    "        self.name1 = \"Mom\"\n",
    "        print(1)\n",
    "    def show(self,other):\n",
    "        print(\"par 2 is: \", self.name1,other)\n",
    "class Ch1:\n",
    "    def __init__(self):\n",
    "        self.name1=\"me\"\n",
    "        # Par2.__init__(self)\n",
    "        # Par2.show(self,self.name1)\n",
    "    def show(self):\n",
    "        print(\"ch is: \", self.name1)  \n",
    "# o = Par2()\n",
    "obj = Ch1()\n",
    "obj.show()"
   ]
  },
  {
   "cell_type": "code",
   "execution_count": 13,
   "id": "b2963614-8a67-44d0-ab3d-47a3f8af2137",
   "metadata": {},
   "outputs": [
    {
     "name": "stdout",
     "output_type": "stream",
     "text": [
      "start\n",
      "[2]\n",
      "en\n",
      "start\n",
      "[2, 3]\n",
      "en\n"
     ]
    }
   ],
   "source": [
    "def outer():\n",
    "    l = []\n",
    "    def inner(inp):\n",
    "        print('start')\n",
    "        l.append(inp)\n",
    "        print(l)\n",
    "        print('en')\n",
    "    return inner\n",
    "z=outer()\n",
    "z(2)\n",
    "z(3)"
   ]
  },
  {
   "cell_type": "code",
   "execution_count": 15,
   "id": "50660c27-1280-4ae5-9446-0334dd8ff453",
   "metadata": {},
   "outputs": [
    {
     "name": "stdout",
     "output_type": "stream",
     "text": [
      "This is the inner function\n"
     ]
    }
   ],
   "source": [
    "def outer_function():\n",
    "    def inner_function():\n",
    "        print(\"This is the inner function\")\n",
    "    \n",
    "    inner_function()  # Calling the inner function from within the outer function\n",
    "outer_function()"
   ]
  },
  {
   "cell_type": "markdown",
   "id": "16c69040-9244-431e-afd5-5008a0948e45",
   "metadata": {},
   "source": [
    "Regex"
   ]
  },
  {
   "cell_type": "code",
   "execution_count": 28,
   "id": "dc0a8c78-8bf5-4a7c-bac9-3a7df2733a74",
   "metadata": {},
   "outputs": [
    {
     "name": "stdout",
     "output_type": "stream",
     "text": [
      "None\n"
     ]
    }
   ],
   "source": [
    "#match will check for the first char of the given string if not matches return None\n",
    "import re\n",
    "t = 'abc123dfge234'\n",
    "pat = r'\\d'\n",
    "res = re.match(pat,t)\n",
    "if res:\n",
    "    print(res.group())"
   ]
  },
  {
   "cell_type": "code",
   "execution_count": 31,
   "id": "1c738ad9-0b3d-47e3-9e96-34f8f87a66d0",
   "metadata": {},
   "outputs": [
    {
     "name": "stdout",
     "output_type": "stream",
     "text": [
      "1\n"
     ]
    }
   ],
   "source": [
    "#search will check for every char of the given string if not matches return None\n",
    "\n",
    "t = 'abc123dfge234'\n",
    "pat = r'\\d'\n",
    "res = re.search(pat,t)\n",
    "if res:\n",
    "    print(res.group())"
   ]
  },
  {
   "cell_type": "code",
   "execution_count": 73,
   "id": "6df7a22f-b947-4306-b0ec-2a15a404e43d",
   "metadata": {},
   "outputs": [
    {
     "name": "stdout",
     "output_type": "stream",
     "text": [
      "Group dictionary: {'year': '2024', 'month': '08', 'day': '30'}\n",
      "Group dictionary: {'year': '2023', 'month': '09', 'day': '21'}\n"
     ]
    }
   ],
   "source": [
    "def group_example():\n",
    "    pattern = r'(?P<year>\\d{4})-(?P<month>\\d{2})-(?P<day>\\d{2})'\n",
    "\n",
    "    regex = re.compile(pattern)\n",
    "\n",
    "    text = \"The event is scheduled for 2024-08-30 2023-09-21.\"\n",
    "\n",
    "    match = regex.findall(text)\n",
    "\n",
    "    if match:\n",
    "        for match in regex.finditer(\"The event is scheduled for 2024-08-30 2023-09-21.\"):\n",
    "            year = match.group('year')\n",
    "            month = match.group('month')\n",
    "            day = match.group('day')\n",
    "    \n",
    "            group_dict = match.groupdict()\n",
    "    \n",
    "            # print(f\"Year: {year}\")\n",
    "            # print(f\"Month: {month}\")\n",
    "            # print(f\"Day: {day}\")\n",
    "            print(f\"Group dictionary: {group_dict}\")\n",
    "    else:\n",
    "        print(\"No match found.\")\n",
    "group_example()"
   ]
  },
  {
   "cell_type": "code",
   "execution_count": 71,
   "id": "0ce68be6-ac0f-4538-9e5d-e0724bf9db4b",
   "metadata": {},
   "outputs": [
    {
     "name": "stdout",
     "output_type": "stream",
     "text": [
      "{'year': '2024', 'mon': '08', 'date': '30'}\n",
      "{'year': '2023', 'mon': '09', 'date': '21'}\n",
      "[('2024', '08', '30'), ('2023', '09', '21')]\n",
      "[('2024', '08', '30'), ('2023', '09', '21')]\n"
     ]
    }
   ],
   "source": [
    "\n",
    "pattern = r'(?P<year>\\d+)-(?P<mon>\\d{2})-(?P<date>\\d{2})'\n",
    "m = re.compile(pattern)\n",
    "for match in m.finditer(\"The event is scheduled for 2024-08-30 2023-09-21.\"):\n",
    "    group = match.groupdict()\n",
    "    print(group)\n",
    "print(m.findall(\"The event is scheduled for 2024-08-30 2023-09-21.\"))\n",
    "print(re.findall(pattern,\"The event is scheduled for 2024-08-30 2023-09-21.\"))\n",
    "# Either we can use compiled pattern for objects or we can directly give the patterns as parameter"
   ]
  },
  {
   "cell_type": "code",
   "execution_count": 70,
   "id": "d2ff2d15-57b4-4d59-8be5-ed39ce7faa3f",
   "metadata": {},
   "outputs": [
    {
     "name": "stdout",
     "output_type": "stream",
     "text": [
      "['hi', 'this', 'is', 'mathi']\n"
     ]
    }
   ],
   "source": [
    "t = 'hi this is mathi'\n",
    "pat = r'\\s+'\n",
    "x = re.compile(pat)\n",
    "r = re.split(pat,t)\n",
    "print(x.split(t))"
   ]
  },
  {
   "cell_type": "code",
   "execution_count": null,
   "id": "8d0bfc0f-819a-4cbc-950c-4dc247c0b031",
   "metadata": {},
   "outputs": [],
   "source": [
    "#RE for emails"
   ]
  },
  {
   "cell_type": "code",
   "execution_count": 117,
   "id": "10dd2ffe-8e13-4053-8479-47a356fa55fe",
   "metadata": {},
   "outputs": [
    {
     "name": "stdout",
     "output_type": "stream",
     "text": [
      "example@gmail.com valid\n",
      "jane.doe123@example.co.uk valid\n",
      "john.smith@sub.domain.com valid\n",
      "alice.smith+filter@example.org valid\n",
      "info@company-name.com valid\n",
      "example@.com invalid\n",
      "name@domain invalid\n",
      "@domain.com invalid\n",
      "user@domain..com invalid\n"
     ]
    }
   ],
   "source": [
    "#valid email address\n",
    "pat  = r'^[a-zA-Z0-9.+]+@[a-zA-Z0-9-]+\\.{1}[a-zA-Z]{2,}+'\n",
    "# x = re.findall(pat,'mat1h@gamil.com')\n",
    "email_list = [\n",
    "      \"example@gmail.com\",\n",
    "    \"jane.doe123@example.co.uk\",\n",
    "    \"john.smith@sub.domain.com\",\n",
    "    \"alice.smith+filter@example.org\",\n",
    "    \"info@company-name.com\",\"example@.com\",   \n",
    "    \"name@domain\",   \"@domain.com\",     \"user@domain..com\"      \n",
    "]\n",
    "for i in email_list:\n",
    "    x = re.search(pat,i)\n",
    "    if x:\n",
    "        print(i, \"valid\")\n",
    "    else:\n",
    "        print(i, \"invalid\")\n"
   ]
  },
  {
   "cell_type": "markdown",
   "id": "a6798548-084e-466f-b1e7-ae806106a1f4",
   "metadata": {},
   "source": [
    "#RE for URLS"
   ]
  },
  {
   "cell_type": "code",
   "execution_count": 92,
   "id": "759557dd-2ffc-4f12-a3aa-b9a5842a9499",
   "metadata": {},
   "outputs": [
    {
     "name": "stdout",
     "output_type": "stream",
     "text": [
      "valid\n",
      "valid\n",
      "valid\n",
      "valid\n",
      "valid\n",
      "invalid\n"
     ]
    }
   ],
   "source": [
    "urlpat = r'^(https|http|ftp)?:\\/\\/(([a-zA-Z0-9\\.]+\\.[a-zA-Z]{2,3})|(localhost:[0-9]{0,5})|((([01]?[0-9]?[0-9])|(2[0-4][0-9])|(25[0-5]))\\.){3}(([01]?[0-9]?[0-9])|(2[0-4][0-9])|(25[0-5])))$'\n",
    "urls = [\"https://www.example.com\",\n",
    "\"http://example.org\",\n",
    "\"ftp://files.example.net\",\n",
    "\"https://subdomain.example.co.uk\",\n",
    "\"http://localhost:8000\",\n",
    "\"https://255.255.255.267\"]\n",
    "com = re.compile(urlpat)\n",
    "for url in urls:\n",
    "    x = com.search(url)\n",
    "    if x:\n",
    "        print(\"valid\")\n",
    "    else:\n",
    "        print(\"invalid\")"
   ]
  },
  {
   "cell_type": "code",
   "execution_count": null,
   "id": "7c75e8f0-5b34-4485-9ff7-da75a3861664",
   "metadata": {},
   "outputs": [],
   "source": [
    "# RE for IP addresses"
   ]
  },
  {
   "cell_type": "code",
   "execution_count": 120,
   "id": "77199151-6aa6-451e-a5f1-b5fdb879ac2b",
   "metadata": {},
   "outputs": [
    {
     "name": "stdout",
     "output_type": "stream",
     "text": [
      "valid\n",
      "valid\n",
      "valid\n",
      "valid\n",
      "valid\n",
      "invalid\n",
      "invalid\n",
      "Valid IPs  : Subnet Mask\n",
      "10.0.0.1 : 255.0.0.0\n",
      "172.16.0.1 : 255.255.0.0\n",
      "192.168.1.1 : 255.255.255.0\n",
      "224.0.0.1 : 255.255.255.0\n",
      "240.0.0.1 : None\n"
     ]
    }
   ],
   "source": [
    "import re\n",
    "pat = r'^((25[0-5]|2[0-4][0-9]|[0-1]?[0-9][0-9]?)\\.){3}(25[0-5]|2[0-4][0-9]|[0-1]?[0-9][0-9]?)$'\n",
    "ex = re.compile(pat)\n",
    "d = {}\n",
    "with open('ips.txt','r') as lines:\n",
    "    for line in lines:\n",
    "        \n",
    "        x = ex.search(line)\n",
    "        if x:\n",
    "            print(\"valid\")\n",
    "            foct = int(str(x.group()).split('.')[0])\n",
    "            if foct>=0 and foct<=127:\n",
    "                sub = \"255.0.0.0\"\n",
    "            elif foct>=128 and foct<=191:\n",
    "                sub = \"255.255.0.0\"\n",
    "            elif foct>=192 and foct<=224:\n",
    "                sub = \"255.255.255.0\"\n",
    "            else:\n",
    "                sub = None\n",
    "            d[x.group()] = sub\n",
    "        else:\n",
    "            print(\"invalid\")\n",
    "print(\"Valid IPs  : Subnet Mask\")\n",
    "for  k,v in d.items():\n",
    "    print(k,\":\",v)"
   ]
  },
  {
   "cell_type": "code",
   "execution_count": 39,
   "id": "0d275cde-b6c8-48c9-839b-4d8f0593ca72",
   "metadata": {},
   "outputs": [
    {
     "name": "stdout",
     "output_type": "stream",
     "text": [
      "192.168.1.1 is a valid IP address.\n",
      "256.255.255.255 is not a valid IP address.\n",
      "300.100.50.25 is not a valid IP address.\n",
      "10.0.0.256 is not a valid IP address.\n"
     ]
    }
   ],
   "source": [
    "\n",
    "\n",
    "test_ips = ['192.168.1.1', '256.255.255.255', '300.100.50.25', '10.0.0.256']\n",
    "\n",
    "for ip in test_ips:\n",
    "    if re.match(p, ip):\n",
    "        print(f'{ip} is a valid IP address.')\n",
    "    else:\n",
    "        print(f'{ip} is not a valid IP address.')"
   ]
  },
  {
   "cell_type": "markdown",
   "id": "54d57dfd-fc3a-4606-a78a-b41345310407",
   "metadata": {},
   "source": [
    "open file fetch ip add and ip as key and val as subnet"
   ]
  }
 ],
 "metadata": {
  "kernelspec": {
   "display_name": "Python 3 (ipykernel)",
   "language": "python",
   "name": "python3"
  },
  "language_info": {
   "codemirror_mode": {
    "name": "ipython",
    "version": 3
   },
   "file_extension": ".py",
   "mimetype": "text/x-python",
   "name": "python",
   "nbconvert_exporter": "python",
   "pygments_lexer": "ipython3",
   "version": "3.12.5"
  }
 },
 "nbformat": 4,
 "nbformat_minor": 5
}
