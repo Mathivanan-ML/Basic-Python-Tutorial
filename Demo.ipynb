{
 "cells": [
  {
   "cell_type": "code",
   "execution_count": 4,
   "id": "e6120a25-1aad-4c75-9e02-7e3fdaf593ac",
   "metadata": {},
   "outputs": [
    {
     "name": "stdout",
     "output_type": "stream",
     "text": [
      "1. To create a Student data\n",
      "2. To Display all the student data\n",
      "3. To display a particular student's data\n",
      "4. to quit\n"
     ]
    },
    {
     "name": "stdin",
     "output_type": "stream",
     "text": [
      "Enter an option 1\n",
      "enter name m\n",
      "enter your age 90\n"
     ]
    },
    {
     "ename": "Exception",
     "evalue": "age must be greater than 17 and less than 60",
     "output_type": "error",
     "traceback": [
      "\u001b[1;31m---------------------------------------------------------------------------\u001b[0m",
      "\u001b[1;31mException\u001b[0m                                 Traceback (most recent call last)",
      "Cell \u001b[1;32mIn[4], line 30\u001b[0m\n\u001b[0;32m     28\u001b[0m n \u001b[38;5;241m=\u001b[39m \u001b[38;5;28mint\u001b[39m(\u001b[38;5;28minput\u001b[39m(\u001b[38;5;124m\"\u001b[39m\u001b[38;5;124mEnter an option\u001b[39m\u001b[38;5;124m\"\u001b[39m))\n\u001b[0;32m     29\u001b[0m \u001b[38;5;28;01mif\u001b[39;00m n\u001b[38;5;241m==\u001b[39m\u001b[38;5;241m1\u001b[39m:\n\u001b[1;32m---> 30\u001b[0m     obj \u001b[38;5;241m=\u001b[39m \u001b[43mStudent\u001b[49m\u001b[43m(\u001b[49m\u001b[43m)\u001b[49m\n\u001b[0;32m     31\u001b[0m     student_data[obj\u001b[38;5;241m.\u001b[39mid] \u001b[38;5;241m=\u001b[39m obj\n\u001b[0;32m     32\u001b[0m     \u001b[38;5;28mprint\u001b[39m(\u001b[38;5;124m\"\u001b[39m\u001b[38;5;124mStudent has been created\u001b[39m\u001b[38;5;124m\"\u001b[39m)\n",
      "Cell \u001b[1;32mIn[4], line 10\u001b[0m, in \u001b[0;36mStudent.__init__\u001b[1;34m(self)\u001b[0m\n\u001b[0;32m      8\u001b[0m \u001b[38;5;28mself\u001b[39m\u001b[38;5;241m.\u001b[39m__age \u001b[38;5;241m=\u001b[39m \u001b[38;5;28mint\u001b[39m(\u001b[38;5;28minput\u001b[39m(\u001b[38;5;124m\"\u001b[39m\u001b[38;5;124menter your age\u001b[39m\u001b[38;5;124m\"\u001b[39m))\n\u001b[0;32m      9\u001b[0m \u001b[38;5;28;01mwhile\u001b[39;00m \u001b[38;5;28mself\u001b[39m\u001b[38;5;241m.\u001b[39m__age \u001b[38;5;241m>\u001b[39m\u001b[38;5;241m17\u001b[39m \u001b[38;5;129;01mand\u001b[39;00m \u001b[38;5;28mself\u001b[39m\u001b[38;5;241m.\u001b[39m__age \u001b[38;5;241m>\u001b[39m\u001b[38;5;241m60\u001b[39m:\n\u001b[1;32m---> 10\u001b[0m     \u001b[38;5;28;01mraise\u001b[39;00m \u001b[38;5;167;01mException\u001b[39;00m(\u001b[38;5;124m\"\u001b[39m\u001b[38;5;124mage must be greater than 17 and less than 60\u001b[39m\u001b[38;5;124m\"\u001b[39m)\n\u001b[0;32m     11\u001b[0m \u001b[38;5;28mself\u001b[39m\u001b[38;5;241m.\u001b[39m__dept \u001b[38;5;241m=\u001b[39m \u001b[38;5;28minput\u001b[39m(\u001b[38;5;124m\"\u001b[39m\u001b[38;5;124menter dept\u001b[39m\u001b[38;5;124m\"\u001b[39m)\n\u001b[0;32m     12\u001b[0m \u001b[38;5;28mself\u001b[39m\u001b[38;5;241m.\u001b[39m__courses \u001b[38;5;241m=\u001b[39m \u001b[38;5;28mlist\u001b[39m(\u001b[38;5;28mmap\u001b[39m(\u001b[38;5;28mstr\u001b[39m,\u001b[38;5;28minput\u001b[39m(\u001b[38;5;124m\"\u001b[39m\u001b[38;5;124mEnter Courses\u001b[39m\u001b[38;5;124m\"\u001b[39m)\u001b[38;5;241m.\u001b[39msplit()))\n",
      "\u001b[1;31mException\u001b[0m: age must be greater than 17 and less than 60"
     ]
    }
   ],
   "source": [
    "class Student:\n",
    "    std_id = 0\n",
    "    def __init__(self):\n",
    "        self.id = Student.std_id+1\n",
    "        Student.std_id += 1\n",
    "        self.__name = input(\"enter name\")\n",
    "        self.__age = int(input(\"enter your age\"))\n",
    "        while self.__age <17 and self.__age >60:\n",
    "            raise Exception(\"age must be greater than 17 and less than 60\")\n",
    "        self.__dept = input(\"enter dept\")\n",
    "        self.__courses = list(map(str,input(\"Enter Courses\").split()))\n",
    "        self.__data = dict(id=self.id, name =self.__name, age=self.__age,dept=self.__dept,courses=self.__courses)\n",
    "        \n",
    "    def displ_dict(self):\n",
    "        print(\"Key     \",\"Data    \") \n",
    "        for k,v in self.__data.items():\n",
    "            print(k,\":\",v)\n",
    "        \n",
    "\n",
    "\n",
    "student_data = {}\n",
    "while True:\n",
    "    print(\"1. To create a Student data\")\n",
    "    print(\"2. To Display all the student data\")\n",
    "    print(\"3. To display a particular student's data\")\n",
    "    print(\"4. to quit\")\n",
    "    n = int(input(\"Enter an option\"))\n",
    "    if n==1:\n",
    "        obj = Student()\n",
    "        student_data[obj.id] = obj\n",
    "        print(\"Student has been created\")\n",
    "    elif n==2:\n",
    "        for ids,data_obj in student_data.items():\n",
    "            data_obj.displ_dict()\n",
    "            print()\n",
    "    elif n==3:\n",
    "        id = int(input(\"enter id of the student\"))\n",
    "        student_data[id].displ_dict()\n",
    "    else :\n",
    "        break\n",
    "        \n",
    "\n"
   ]
  },
  {
   "cell_type": "code",
   "execution_count": 13,
   "id": "33cd9c99-d250-47ad-955c-af495754fe5b",
   "metadata": {},
   "outputs": [
    {
     "name": "stdin",
     "output_type": "stream",
     "text": [
      " m m m \n"
     ]
    },
    {
     "data": {
      "text/plain": [
       "['m', 'm', 'm']"
      ]
     },
     "execution_count": 13,
     "metadata": {},
     "output_type": "execute_result"
    }
   ],
   "source": []
  },
  {
   "cell_type": "code",
   "execution_count": null,
   "id": "16bc6810-f884-49bd-8848-4696f29f446e",
   "metadata": {},
   "outputs": [],
   "source": []
  },
  {
   "cell_type": "code",
   "execution_count": 48,
   "id": "02e0adf4-d60d-4138-b441-650c8dede60d",
   "metadata": {},
   "outputs": [
    {
     "name": "stdout",
     "output_type": "stream",
     "text": [
      "1. To create a Student data\n",
      "2. To Display all the student data\n",
      "3. To display a particular student's data\n",
      "4. to quit\n"
     ]
    },
    {
     "name": "stdin",
     "output_type": "stream",
     "text": [
      "Enter an option 1\n",
      "enter name mathi\n",
      "enter your age 22\n",
      "enter dept cse\n",
      "Enter Courses ss d\n"
     ]
    },
    {
     "name": "stdout",
     "output_type": "stream",
     "text": [
      "Student has been created\n",
      "1. To create a Student data\n",
      "2. To Display all the student data\n",
      "3. To display a particular student's data\n",
      "4. to quit\n"
     ]
    },
    {
     "name": "stdin",
     "output_type": "stream",
     "text": [
      "Enter an option 1\n",
      "enter name moses\n",
      "enter your age 23\n",
      "enter dept it\n",
      "Enter Courses sd df\n"
     ]
    },
    {
     "name": "stdout",
     "output_type": "stream",
     "text": [
      "Student has been created\n",
      "1. To create a Student data\n",
      "2. To Display all the student data\n",
      "3. To display a particular student's data\n",
      "4. to quit\n"
     ]
    },
    {
     "name": "stdin",
     "output_type": "stream",
     "text": [
      "Enter an option 2\n"
     ]
    },
    {
     "name": "stdout",
     "output_type": "stream",
     "text": [
      "Key      Data    \n",
      "id : 1\n",
      "name : mathi\n",
      "age : 22\n",
      "dept : cse\n",
      "courses : ['ss', 'd']\n",
      "\n",
      "Key      Data    \n",
      "id : 2\n",
      "name : moses\n",
      "age : 23\n",
      "dept : it\n",
      "courses : ['sd', 'df']\n",
      "\n",
      "1. To create a Student data\n",
      "2. To Display all the student data\n",
      "3. To display a particular student's data\n",
      "4. to quit\n"
     ]
    },
    {
     "name": "stdin",
     "output_type": "stream",
     "text": [
      "Enter an option 3\n",
      "enter id of the student 2\n"
     ]
    },
    {
     "name": "stdout",
     "output_type": "stream",
     "text": [
      "Key      Data    \n",
      "id : 2\n",
      "name : moses\n",
      "age : 23\n",
      "dept : it\n",
      "courses : ['sd', 'df']\n",
      "1. To create a Student data\n",
      "2. To Display all the student data\n",
      "3. To display a particular student's data\n",
      "4. to quit\n"
     ]
    },
    {
     "name": "stdin",
     "output_type": "stream",
     "text": [
      "Enter an option 4\n"
     ]
    }
   ],
   "source": [
    "#### import pandas as pd\n",
    "class Student:\n",
    "    std_id = 0\n",
    "    def __init__(self):\n",
    "        self.id = Student.std_id+1\n",
    "        Student.std_id += 1\n",
    "        self.__name = input(\"enter name\")\n",
    "        self.__age = int(input(\"enter your age\"))\n",
    "        while self.__age <17 and self.__age >60:\n",
    "            raise Exception(\"age must be greater than 17 and less than 60\")\n",
    "        self.__dept = input(\"enter dept\")\n",
    "        self.__courses = list(map(str,input(\"Enter Courses\").split()))\n",
    "        self.__data = dict(id=self.id, name =self.__name, age=self.__age,dept=self.__dept,courses=self.__courses)\n",
    "        \n",
    "    def displ_dict(self):\n",
    "        print(\"Key     \",\"Data    \") \n",
    "        for k,v in self.__data.items():\n",
    "            print(k,\":\",v)\n",
    "   \n",
    "    def add_in_excell(self, file_name='ot.xlsx'):\n",
    "    # Create a DataFrame from the input data\n",
    "        data = self.__data\n",
    "        new_df = pd.DataFrame([data])\n",
    "        \n",
    "        try:\n",
    "            # Read the existing file\n",
    "            existing_df = pd.read_excel(file_name)\n",
    "            \n",
    "            # Ensure that existing_df is a DataFrame\n",
    "            if not isinstance(existing_df, pd.DataFrame):\n",
    "                raise ValueError(\"The existing data is not a DataFrame\")\n",
    "            \n",
    "            # Append new data\n",
    "            updated_df = pd.concat([existing_df, new_df], ignore_index=True)\n",
    "        except FileNotFoundError:\n",
    "            # If the file does not exist, just use the new data\n",
    "            updated_df = new_df\n",
    "        except ValueError as e:\n",
    "            # Handle the case where the read data is not a DataFrame\n",
    "            print(f\"ValueError: {e}\")\n",
    "            updated_df = new_df\n",
    "    \n",
    "    # Save the updated DataFrame to Excel\n",
    "        updated_df.to_excel(file_name, index=False)\n",
    "\n",
    "\n",
    "student_data = {}\n",
    "while True:\n",
    "    print(\"1. To create a Student data\")\n",
    "    print(\"2. To Display all the student data\")\n",
    "    print(\"3. To display a particular student's data\")\n",
    "    print(\"4. to quit\")\n",
    "    n = int(input(\"Enter an option\"))\n",
    "    if n==1:\n",
    "        obj = Student()\n",
    "        student_data[obj.id] = obj\n",
    "        obj.add_in_excell()\n",
    "        print(\"Student has been created\")\n",
    "    elif n==2:\n",
    "        for ids,data_obj in student_data.items():\n",
    "            data_obj.displ_dict()\n",
    "            print()\n",
    "    elif n==3:\n",
    "        id = int(input(\"enter id of the student\"))\n",
    "        student_data[id].displ_dict()\n",
    "        \n",
    "    else :\n",
    "        break\n",
    "        \n",
    "\n"
   ]
  },
  {
   "cell_type": "code",
   "execution_count": 41,
   "id": "def3ec33-afba-42b2-872b-ce145d59b47c",
   "metadata": {},
   "outputs": [],
   "source": [
    "import pandas as pd\n",
    "\n",
    "def add_in_excell(data, file_name='ot.xlsx'):\n",
    "    # Create a DataFrame from the input data\n",
    "    new_df = pd.DataFrame([data])\n",
    "    \n",
    "    try:\n",
    "        # Read the existing file\n",
    "        existing_df = pd.read_excel(file_name)\n",
    "        \n",
    "        # Ensure that existing_df is a DataFrame\n",
    "        if not isinstance(existing_df, pd.DataFrame):\n",
    "            raise ValueError(\"The existing data is not a DataFrame\")\n",
    "        \n",
    "        # Append new data\n",
    "        updated_df = pd.concat([existing_df, new_df], ignore_index=True)\n",
    "    except FileNotFoundError:\n",
    "        # If the file does not exist, just use the new data\n",
    "        updated_df = new_df\n",
    "    except ValueError as e:\n",
    "        # Handle the case where the read data is not a DataFrame\n",
    "        print(f\"ValueError: {e}\")\n",
    "        updated_df = new_df\n",
    "    \n",
    "    # Save the updated DataFrame to Excel\n",
    "    updated_df.to_excel(file_name, index=False)\n",
    "\n",
    "# Example data\n",
    "data = {\n",
    "    \"id\": 2,\n",
    "    \"name\": [\"mathi\", \"john\", \"doe\"],\n",
    "    \"age\": 21,\n",
    "    \"courses\": [1, 2, 3]\n",
    "}\n",
    "\n",
    "add_in_excell(data)\n"
   ]
  },
  {
   "cell_type": "code",
   "execution_count": 1,
   "id": "098172fc-2d8c-4a87-9dd8-f1de0f04bc58",
   "metadata": {},
   "outputs": [],
   "source": [
    "import sqlite3\n"
   ]
  }
 ],
 "metadata": {
  "kernelspec": {
   "display_name": "Python 3 (ipykernel)",
   "language": "python",
   "name": "python3"
  },
  "language_info": {
   "codemirror_mode": {
    "name": "ipython",
    "version": 3
   },
   "file_extension": ".py",
   "mimetype": "text/x-python",
   "name": "python",
   "nbconvert_exporter": "python",
   "pygments_lexer": "ipython3",
   "version": "3.12.5"
  }
 },
 "nbformat": 4,
 "nbformat_minor": 5
}
